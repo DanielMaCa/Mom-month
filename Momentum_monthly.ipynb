{
 "cells": [
  {
   "cell_type": "code",
   "execution_count": 1,
   "metadata": {},
   "outputs": [],
   "source": [
    "import pandas as pd\n",
    "import numpy as np\n",
    "import matplotlib as mat \n",
    "%matplotlib inline\n",
    "import matplotlib.pyplot as plt\n",
    "from pandas.tseries.offsets import *\n",
    "from scipy import stats\n",
    "from datetime import datetime, date, time, timedelta"
   ]
  },
  {
   "cell_type": "code",
   "execution_count": 2,
   "metadata": {},
   "outputs": [],
   "source": [
    "#ersetze in RET C und B mit nan\n",
    "missing_values=[\"C\",\"B\",\".\"]"
   ]
  },
  {
   "cell_type": "code",
   "execution_count": 4,
   "metadata": {},
   "outputs": [
    {
     "name": "stdout",
     "output_type": "stream",
     "text": [
      "(2434282, 7)\n"
     ]
    },
    {
     "data": {
      "text/html": [
       "<div>\n",
       "<style scoped>\n",
       "    .dataframe tbody tr th:only-of-type {\n",
       "        vertical-align: middle;\n",
       "    }\n",
       "\n",
       "    .dataframe tbody tr th {\n",
       "        vertical-align: top;\n",
       "    }\n",
       "\n",
       "    .dataframe thead th {\n",
       "        text-align: right;\n",
       "    }\n",
       "</style>\n",
       "<table border=\"1\" class=\"dataframe\">\n",
       "  <thead>\n",
       "    <tr style=\"text-align: right;\">\n",
       "      <th></th>\n",
       "      <th>PERMNO</th>\n",
       "      <th>date</th>\n",
       "      <th>SHRCD</th>\n",
       "      <th>EXCHCD</th>\n",
       "      <th>SICCD</th>\n",
       "      <th>PRC</th>\n",
       "      <th>RET</th>\n",
       "    </tr>\n",
       "  </thead>\n",
       "  <tbody>\n",
       "    <tr>\n",
       "      <th>0</th>\n",
       "      <td>10001</td>\n",
       "      <td>1986-09-30</td>\n",
       "      <td>11</td>\n",
       "      <td>3</td>\n",
       "      <td>4920</td>\n",
       "      <td>6.375</td>\n",
       "      <td>-0.003077</td>\n",
       "    </tr>\n",
       "    <tr>\n",
       "      <th>1</th>\n",
       "      <td>10001</td>\n",
       "      <td>1986-10-31</td>\n",
       "      <td>11</td>\n",
       "      <td>3</td>\n",
       "      <td>4920</td>\n",
       "      <td>6.625</td>\n",
       "      <td>0.039216</td>\n",
       "    </tr>\n",
       "    <tr>\n",
       "      <th>2</th>\n",
       "      <td>10001</td>\n",
       "      <td>1986-11-28</td>\n",
       "      <td>11</td>\n",
       "      <td>3</td>\n",
       "      <td>4920</td>\n",
       "      <td>7.000</td>\n",
       "      <td>0.056604</td>\n",
       "    </tr>\n",
       "    <tr>\n",
       "      <th>3</th>\n",
       "      <td>10001</td>\n",
       "      <td>1986-12-31</td>\n",
       "      <td>11</td>\n",
       "      <td>3</td>\n",
       "      <td>4920</td>\n",
       "      <td>7.000</td>\n",
       "      <td>0.015000</td>\n",
       "    </tr>\n",
       "    <tr>\n",
       "      <th>4</th>\n",
       "      <td>10001</td>\n",
       "      <td>1987-01-30</td>\n",
       "      <td>11</td>\n",
       "      <td>3</td>\n",
       "      <td>4920</td>\n",
       "      <td>6.750</td>\n",
       "      <td>-0.035714</td>\n",
       "    </tr>\n",
       "  </tbody>\n",
       "</table>\n",
       "</div>"
      ],
      "text/plain": [
       "   PERMNO       date  SHRCD  EXCHCD SICCD    PRC       RET\n",
       "0   10001 1986-09-30     11       3  4920  6.375 -0.003077\n",
       "1   10001 1986-10-31     11       3  4920  6.625  0.039216\n",
       "2   10001 1986-11-28     11       3  4920  7.000  0.056604\n",
       "3   10001 1986-12-31     11       3  4920  7.000  0.015000\n",
       "4   10001 1987-01-30     11       3  4920  6.750 -0.035714"
      ]
     },
     "execution_count": 4,
     "metadata": {},
     "output_type": "execute_result"
    }
   ],
   "source": [
    "crsp_m = pd.read_csv(\"./Data/Stockreturn_monthly_1960-2018.csv\",na_values=missing_values)\n",
    "#crsp_m = pd.read_csv(\"./Data/SIC CODE BANK.csv\",na_values=missing_values)\n",
    "\n",
    "crsp_m['date']=[datetime.strptime(str(date), \"%Y%m%d\")\n",
    "for date in crsp_m['date']]\n",
    "\n",
    "print(crsp_m.shape)\n",
    "\n",
    "crsp_m.head()"
   ]
  },
  {
   "cell_type": "code",
   "execution_count": 5,
   "metadata": {},
   "outputs": [],
   "source": [
    "crsp_m[['PERMNO','SHRCD','EXCHCD']] = crsp_m[['PERMNO', 'SHRCD','EXCHCD']].astype(int)\n"
   ]
  },
  {
   "cell_type": "code",
   "execution_count": 6,
   "metadata": {},
   "outputs": [],
   "source": [
    "crsp_m['RET']=crsp_m['RET'].fillna(0)"
   ]
  },
  {
   "cell_type": "code",
   "execution_count": 7,
   "metadata": {},
   "outputs": [],
   "source": [
    "crsp_m['logret']=np.log(1+crsp_m['RET'])"
   ]
  },
  {
   "cell_type": "code",
   "execution_count": 8,
   "metadata": {},
   "outputs": [],
   "source": [
    "crsp_m['logret+1']=crsp_m['logret']+1"
   ]
  },
  {
   "cell_type": "code",
   "execution_count": 9,
   "metadata": {},
   "outputs": [],
   "source": [
    "crsp_m['MktV'] = crsp_m['SHRCD']*crsp_m['PRC']"
   ]
  },
  {
   "cell_type": "code",
   "execution_count": 10,
   "metadata": {},
   "outputs": [],
   "source": [
    "#print (crsp_m)"
   ]
  },
  {
   "cell_type": "code",
   "execution_count": 11,
   "metadata": {},
   "outputs": [],
   "source": [
    "#crsp_m.pivot(index='date',columns='PERMNO')"
   ]
  },
  {
   "cell_type": "code",
   "execution_count": 12,
   "metadata": {},
   "outputs": [],
   "source": [
    "#piv1=crsp_m.pivot(index='date',columns='PERMNO',values= ['logret','MktV'])"
   ]
  },
  {
   "cell_type": "code",
   "execution_count": 13,
   "metadata": {},
   "outputs": [],
   "source": [
    "pivm=crsp_m.pivot(index='date',columns='PERMNO',values= ['logret'])"
   ]
  },
  {
   "cell_type": "code",
   "execution_count": 14,
   "metadata": {},
   "outputs": [],
   "source": [
    "#print(pivm)"
   ]
  },
  {
   "cell_type": "code",
   "execution_count": 15,
   "metadata": {},
   "outputs": [],
   "source": [
    "CR_df = pivm"
   ]
  },
  {
   "cell_type": "code",
   "execution_count": 16,
   "metadata": {},
   "outputs": [],
   "source": [
    "CR_df_columns = pivm.columns\n",
    "CR_df_index = pivm.index.to_series()\n",
    "CR_df = pd.DataFrame(index=CR_df_index, dtype=float, columns=CR_df_columns)"
   ]
  },
  {
   "cell_type": "code",
   "execution_count": null,
   "metadata": {},
   "outputs": [],
   "source": [
    "for i in range(len(CR_df_index)):\n",
    "\n",
    "    for j in range(len(CR_df_columns)):\n",
    "        if np.sum(pivm.iloc[i-13:i,j].isna()) > 0:\n",
    "            continue\n",
    "        else:\n",
    "            CR_df.iloc[i,j] = np.sum(pivm.iloc[i-13:i-2,j])"
   ]
  },
  {
   "cell_type": "code",
   "execution_count": null,
   "metadata": {},
   "outputs": [],
   "source": [
    "print (CR_df)"
   ]
  },
  {
   "cell_type": "code",
   "execution_count": null,
   "metadata": {},
   "outputs": [],
   "source": [
    "PT_df = CR_df.quantile([0.1, 0.9], axis=1).transpose()\n",
    "PT_df.columns = ['Percentile 10', 'Percentile 90']"
   ]
  },
  {
   "cell_type": "code",
   "execution_count": null,
   "metadata": {},
   "outputs": [],
   "source": [
    "#CR_df.to_csv(r'CR_df.csv')"
   ]
  },
  {
   "cell_type": "code",
   "execution_count": null,
   "metadata": {},
   "outputs": [],
   "source": [
    "AC_df_columns = CR_df.columns\n",
    "AC_df_index = CR_df.index.to_series()"
   ]
  },
  {
   "cell_type": "code",
   "execution_count": null,
   "metadata": {},
   "outputs": [],
   "source": [
    "AC_df0 = pd.DataFrame(index=AC_df_index, dtype=int, columns=AC_df_columns)\n",
    "AC_df1 = pd.DataFrame(index=AC_df_index, dtype=int, columns=AC_df_columns)\n",
    "AC_df2 = pd.DataFrame(index=AC_df_index, dtype=int, columns=AC_df_columns)"
   ]
  },
  {
   "cell_type": "code",
   "execution_count": null,
   "metadata": {},
   "outputs": [],
   "source": [
    "for i in range(len(AC_df_index)):\n",
    "\n",
    "    for j in range(len(AC_df_columns)):\n",
    "        if CR_df.iloc[i, j] <= PT_df.iloc[i, 0]:\n",
    "             AC_df0.iloc[i, j] = True\n",
    "\n",
    "        elif CR_df.iloc[i, j] <= PT_df.iloc[i, 1]:\n",
    "             AC_df1.iloc[i, j] = True\n",
    "\n",
    "        elif CR_df.iloc[i, j] > PT_df.iloc[i, 1]:\n",
    "             AC_df2.iloc[i, j] = True\n",
    "\n",
    "        else:\n",
    "             continue"
   ]
  },
  {
   "cell_type": "code",
   "execution_count": null,
   "metadata": {},
   "outputs": [],
   "source": [
    "AC_df0.fillna(value=False)\n",
    "AC_df1.fillna(value=False)\n",
    "AC_df2.fillna(value=False)"
   ]
  },
  {
   "cell_type": "code",
   "execution_count": null,
   "metadata": {},
   "outputs": [],
   "source": [
    "# Descriptive Information of created Allocation0 DataFrame\n",
    "#print(AC_df0.info())\n",
    "#print(AC_df0.head(7))\n",
    "#print(AC_df0.tail(7))\n",
    "#print(AC_df0.shape)"
   ]
  },
  {
   "cell_type": "code",
   "execution_count": null,
   "metadata": {},
   "outputs": [],
   "source": []
  }
 ],
 "metadata": {
  "kernelspec": {
   "display_name": "Python 3",
   "language": "python",
   "name": "python3"
  },
  "language_info": {
   "codemirror_mode": {
    "name": "ipython",
    "version": 3
   },
   "file_extension": ".py",
   "mimetype": "text/x-python",
   "name": "python",
   "nbconvert_exporter": "python",
   "pygments_lexer": "ipython3",
   "version": "3.7.3"
  }
 },
 "nbformat": 4,
 "nbformat_minor": 2
}
